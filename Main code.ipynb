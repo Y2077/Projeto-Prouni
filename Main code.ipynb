{
 "cells": [
  {
   "cell_type": "code",
   "execution_count": 29,
   "metadata": {},
   "outputs": [],
   "source": [
    "import requests\n",
    "import pandas as pd\n",
    "import sqlite3\n",
    "\n",
    "# importação das bibliotecas necessáriass ^\n",
    "\n",
    "token = \"46e3ffe3ef6f5a7ce21841ab6b11dd0f39317dae\" \n",
    "# usado para acessar a API ^"
   ]
  },
  {
   "cell_type": "code",
   "execution_count": 30,
   "metadata": {},
   "outputs": [],
   "source": [
    "def autentic(token):\n",
    "     link = \"https://api.brasil.io/v1\"\n",
    "     headers = {'Authorization': f'Token {token}'}\n",
    "     rota = \"dataset/cursos-prouni/cursos\"\n",
    "\n",
    "     # para uma rota dinâmica:\n",
    "     tabela = \"cursos\"\n",
    "     dataset = \"cursos-prouni\"\n",
    "\n",
    "     rota = f\"dataset/{dataset}/{tabela}/data\"\n",
    "\n",
    "     # verificando a conectividade\n",
    "\n",
    "     response = requests.get(f\"{link}/{rota}\", headers=headers)\n",
    "\n",
    "     if response.status_code == 200:\n",
    "          print(\"Autenticação verificada com sucesso!😎\")\n",
    "          return response.json()['results']\n",
    "     elif response.status_code == 401:\n",
    "        print(\"Token inválido ou expirado!\")\n",
    "        return False\n",
    "     elif response.status_code == 403:\n",
    "        print(\"Sem permissão para acessar este recurso!\")\n",
    "        return False\n",
    "     else:\n",
    "        print(f\"Erro inesperado: {response.status_code}\")\n",
    "        return False"
   ]
  },
  {
   "cell_type": "code",
   "execution_count": 31,
   "metadata": {},
   "outputs": [],
   "source": [
    "# Conexão com o banco SQLite\n",
    "conn = sqlite3.connect('cursos_prouni_br.db')\n",
    "cursor = conn.cursor()\n",
    "\n",
    "# Criando a tabela\n",
    "cursor.execute('''\n",
    "CREATE TABLE IF NOT EXISTS cursos (\n",
    "    id INTEGER PRIMARY KEY AUTOINCREMENT,\n",
    "    uf_busca TEXT,\n",
    "    cidade_busca TEXT,\n",
    "    universidade TEXT,\n",
    "    nome_curso TEXT,\n",
    "    grau TEXT,\n",
    "    mensalidade REAL,\n",
    "    turno TEXT,\n",
    "    bolsa_integral_ampla INTEGER,\n",
    "    bolsa_integral_cotas INTEGER,\n",
    "    bolsa_parcial_ampla INTEGER,\n",
    "    bolsa_parcial_cotas INTEGER,\n",
    "    nota_integral_ampla REAL,\n",
    "    nota_integral_cotas REAL,\n",
    "    nota_parcial_ampla REAL,\n",
    "    nota_parcial_cotas REAL\n",
    ")\n",
    "''')\n",
    "conn.commit()\n",
    "conn.close()"
   ]
  },
  {
   "cell_type": "code",
   "execution_count": 32,
   "metadata": {},
   "outputs": [
    {
     "name": "stdout",
     "output_type": "stream",
     "text": [
      "Autenticação verificada com sucesso!😎\n",
      "Dados inseridos no banco de dados com sucesso!😎\n"
     ]
    }
   ],
   "source": [
    "# Alimentando o banco\n",
    "conn = sqlite3.connect('cursos_prouni_br.db')\n",
    "cursor = conn.cursor()\n",
    "\n",
    "cursos = autentic(token)\n",
    "for curso in cursos:\n",
    "    uf_busca = curso['uf_busca']\n",
    "    cidade_busca = curso['cidade_busca']\n",
    "    universidade = curso['universidade_nome']  \n",
    "    nome_curso = curso['nome']\n",
    "    grau = curso['grau']\n",
    "    mensalidade = curso['mensalidade']\n",
    "    turno = curso['turno']  \n",
    "    bolsa_integral_ampla = curso.get('bolsa_integral_ampla', None)\n",
    "    bolsa_integral_cotas = curso.get('bolsa_integral_cotas', None)\n",
    "    bolsa_parcial_ampla = curso.get('bolsa_parcial_ampla', None)\n",
    "    bolsa_parcial_cotas = curso.get('bolsa_parcial_cotas', None)         \n",
    "    nota_integral_ampla = curso.get('nota_integral_ampla', None)\n",
    "    nota_integral_cotas = curso.get('nota_integral_cotas', None)\n",
    "    nota_parcial_ampla = curso.get('nota_parcial_ampla', None)\n",
    "    nota_parcial_cotas = curso.get('nota_parcial_cotas', None)\n",
    "\n",
    "    cursor.execute('''\n",
    "        INSERT INTO cursos (\n",
    "            uf_busca, cidade_busca, universidade, nome_curso, grau, mensalidade, turno,\n",
    "            bolsa_integral_ampla, bolsa_integral_cotas, bolsa_parcial_ampla, bolsa_parcial_cotas,\n",
    "            nota_integral_ampla, nota_integral_cotas, nota_parcial_ampla, nota_parcial_cotas\n",
    "        ) VALUES (?, ?, ?, ?, ?, ?, ?, ?, ?, ?, ?, ?, ?, ?, ?)\n",
    "    ''', (\n",
    "        uf_busca, cidade_busca, universidade, nome_curso, grau, mensalidade, turno,\n",
    "        bolsa_integral_ampla, bolsa_integral_cotas, bolsa_parcial_ampla, bolsa_parcial_cotas,\n",
    "        nota_integral_ampla, nota_integral_cotas, nota_parcial_ampla, nota_parcial_cotas\n",
    "    ))\n",
    "\n",
    "\n",
    "conn.commit()\n",
    "conn.close()\n",
    "\n",
    "print(\"Dados inseridos no banco de dados com sucesso!😎\")"
   ]
  },
  {
   "cell_type": "markdown",
   "metadata": {},
   "source": [
    "## Alguns exemplos de consulta:"
   ]
  },
  {
   "cell_type": "markdown",
   "metadata": {},
   "source": [
    "#### Consulta 1: Análise da Disponibilidade de Bolsas por Estado\n",
    "\n",
    "###### Essa consulta visa analisar a distribuição de bolsas de estudo por estado, diferenciando bolsas integrais e parciais. O cálculo do percentual de bolsas integrais em relação ao número de cursos permite identificar quais estados priorizam mais a acessibilidade.\n"
   ]
  },
  {
   "cell_type": "code",
   "execution_count": 34,
   "metadata": {},
   "outputs": [
    {
     "name": "stdout",
     "output_type": "stream",
     "text": [
      "('MG', 882, 2304, 930, 261.2244897959184)\n",
      "('BA', 582, 1209, 1221, 207.7319587628866)\n",
      "('GO', 297, 753, 777, 253.53535353535352)\n",
      "('CE', 222, 603, 138, 271.6216216216216)\n",
      "('ES', 207, 453, 564, 218.84057971014494)\n",
      "('MA', 147, 450, 1122, 306.1224489795918)\n",
      "('MS', 213, 396, 159, 185.91549295774647)\n",
      "('DF', 192, 393, 1467, 204.6875)\n",
      "('AM', 72, 300, None, 416.6666666666667)\n",
      "('AL', 57, 246, 54, 431.57894736842104)\n",
      "('AP', 36, 129, None, 358.3333333333333)\n",
      "('MT', 57, 84, 48, 147.3684210526316)\n",
      "('AC', 36, 42, 39, 116.66666666666667)\n"
     ]
    }
   ],
   "source": [
    "# Em SQL:\n",
    "#SELECT\n",
    "#     uf_busca AS estado,\n",
    "#     COUNT(*) AS total_cursos,\n",
    "#     SUM(bolsa_integral_ampla + bolsa_integral_cotas) AS total_bolsas_integral,\n",
    "#     SUM(bolsa_parcial_ampla + bolsa_parcial_cotas) AS total_bolsas_parcial,\n",
    "#     (SUM(bolsa_integral_ampla + bolsa_integral_cotas) * 100.0 / \n",
    "#     NULLIF(COUNT(*), 0)) AS percentual_bolsas_integral\n",
    "#FROM cursos\n",
    "#GROUP BY uf_busca\n",
    "#ORDER BY total_bolsas_integral DESC;\n",
    "\n",
    "# Em python:\n",
    "\n",
    "conn = sqlite3.connect(\"cursos_prouni_br.db\")\n",
    "cursor = conn.cursor()\n",
    "cursor.execute(\n",
    "     \"\"\"SELECT \n",
    "     uf_busca AS estado,\n",
    "     COUNT(*) AS total_cursos,\n",
    "     SUM(bolsa_integral_ampla + bolsa_integral_cotas) AS total_bolsas_integral,\n",
    "     SUM(bolsa_parcial_ampla + bolsa_parcial_cotas) AS total_bolsas_parcial,\n",
    "     (SUM(bolsa_integral_ampla + bolsa_integral_cotas) * 100.0 / \n",
    "     NULLIF(COUNT(*), 0)) AS percentual_bolsas_integral\n",
    "     FROM cursos\n",
    "     GROUP BY uf_busca\n",
    "     ORDER BY total_bolsas_integral DESC;\"\"\"\n",
    ")    \n",
    "resultados = cursor.fetchall()\n",
    "for linha in resultados:\n",
    "    print(linha)"
   ]
  },
  {
   "cell_type": "markdown",
   "metadata": {},
   "source": [
    "#### Consulta 2: Identificação de Turnos Mais Populares\n",
    "\n",
    "###### Identificar quais turnos (manhã, tarde, noite ou integral) são mais comuns entre os cursos oferecidos e como isso se relaciona com custos médios e a distribuição de bolsas."
   ]
  },
  {
   "cell_type": "code",
   "execution_count": 35,
   "metadata": {},
   "outputs": [
    {
     "name": "stdout",
     "output_type": "stream",
     "text": [
      "('Curso a Distância', 1539, 311.7809356725146, 3009, 606)\n",
      "('Noturno', 1065, 751.0280281690141, 3462, 3912)\n",
      "('Matutino', 342, 749.6043859649124, 822, 1923)\n",
      "('Vespertino', 33, 706.5863636363636, 60, 48)\n",
      "('Integral', 21, 871.5928571428572, 9, 30)\n"
     ]
    }
   ],
   "source": [
    "# Em SQL:\n",
    "#SELECT \n",
    "#turno, COUNT(*) AS total_cursos, AVG(mensalidade) AS mensalidade_media, SUM(bolsa_integral_ampla #+ bolsa_integral_cotas) AS total_bolsas_integral, SUM(bolsa_parcial_ampla + bolsa_parcial_cotas) #AS total_bolsas_parcial FROM cursos GROUP BY turno ORDER BY total_cursos DESC;\n",
    "\n",
    "# Em python:\n",
    "\n",
    "conn = sqlite3.connect(\"cursos_prouni_br.db\")\n",
    "cursor = conn.cursor()\n",
    "cursor.execute(\n",
    "     \"\"\"SELECT turno, COUNT(*) AS total_cursos, AVG(mensalidade) AS mensalidade_media, SUM(bolsa_integral_ampla + bolsa_integral_cotas) AS total_bolsas_integral, SUM(bolsa_parcial_ampla + bolsa_parcial_cotas) AS total_bolsas_parcial FROM cursos GROUP BY turno ORDER BY total_cursos DESC;\"\"\"\n",
    ")    \n",
    "resultados = cursor.fetchall()\n",
    "for linha in resultados:\n",
    "    print(linha)"
   ]
  },
  {
   "cell_type": "markdown",
   "metadata": {},
   "source": [
    "#### Análise das Universidades com Maior Quantidade de Bolsas Oferecidas\n",
    "\n",
    "###### Identificar as universidades que mais contribuem para o programa de bolsas, tanto integrais quanto parciais, e analisar o custo médio dessas instituições."
   ]
  },
  {
   "cell_type": "code",
   "execution_count": 36,
   "metadata": {},
   "outputs": [
    {
     "name": "stdout",
     "output_type": "stream",
     "text": [
      "('Universidade Pitágoras Unopar', 267, 963, None, 277.87640449438203)\n",
      "('Universidade Anhanguera - UNIDERP', 150, 669, None, 257.6)\n",
      "('Universidade Paulista - UNIP', 156, 405, None, 331.4301923076923)\n",
      "('Faculdade de Ensino Superior da Cidade de Feira de Santana - FAESF/UNEF', 102, 243, 378, 295.0)\n",
      "('Pontifícia Universidade Católica de Minas Gerais - PUC MINAS', 39, 219, None, 1003.3076923076923)\n",
      "('Universidade de Uberaba - UNIUBE', 78, 201, None, 448.0573076923077)\n",
      "('Universidade Salvador - UNIFACS', 36, 153, None, 506.6308333333333)\n",
      "('Faculdade Pitágoras do Maranhão', 3, 123, None, 608.0)\n",
      "('Centro Universitário Estácio de Ribeirão Preto - Estácio Ribeirão Pre - ESTÁCIO RIBEIRÃO PRE', 66, 108, None, 410.64681818181816)\n",
      "('Centro Universitário de Caratinga - Unec - UNEC', 6, 72, None, 1000.0)\n"
     ]
    }
   ],
   "source": [
    "# Em SQL:\n",
    "\n",
    "#SELECT \n",
    "#    universidade,\n",
    "#    COUNT(*) AS total_cursos,\n",
    "#    SUM(bolsa_integral_ampla + bolsa_integral_cotas) AS total_bolsas_integral,\n",
    "#    SUM(bolsa_parcial_ampla + bolsa_parcial_cotas) AS total_bolsas_parcial,\n",
    "#    AVG(mensalidade) AS mensalidade_media\n",
    "#FROM cursos\n",
    "#GROUP BY universidade\n",
    "#ORDER BY total_bolsas_integral DESC\n",
    "#LIMIT 10;\n",
    "\n",
    "# Em python, da mesma forma:\n",
    "\n",
    "conn = sqlite3.connect(\"cursos_prouni_br.db\")\n",
    "cursor = conn.cursor()\n",
    "cursor.execute(\n",
    "     \"\"\"SELECT \n",
    "    universidade,\n",
    "    COUNT(*) AS total_cursos,\n",
    "    SUM(bolsa_integral_ampla + bolsa_integral_cotas) AS total_bolsas_integral,\n",
    "    SUM(bolsa_parcial_ampla + bolsa_parcial_cotas) AS total_bolsas_parcial,\n",
    "    AVG(mensalidade) AS mensalidade_media\n",
    "FROM cursos\n",
    "GROUP BY universidade\n",
    "ORDER BY total_bolsas_integral DESC\n",
    "LIMIT 10;\"\"\"\n",
    ")    \n",
    "resultados = cursor.fetchall()\n",
    "for linha in resultados:\n",
    "    print(linha)"
   ]
  },
  {
   "cell_type": "markdown",
   "metadata": {},
   "source": [
    "#### Análise da Relação entre Notas de Corte e Mensalidade\n",
    "\n",
    "###### Analisar a relação entre as mensalidades médias, as notas de corte e as disparidades entre ampla concorrência e cotas em diferentes estados."
   ]
  },
  {
   "cell_type": "code",
   "execution_count": 37,
   "metadata": {},
   "outputs": [
    {
     "name": "stdout",
     "output_type": "stream",
     "text": [
      "('MS', 398.0291891891892, 567.4837837837838, 513.6972972972973, 53.786486486486524)\n",
      "('GO', 462.0174545454546, 578.2654545454545, 542.9738181818183, 35.29163636363626)\n",
      "('BA', 470.794262295082, 594.7226229508198, 567.1495081967213, 27.57311475409847)\n",
      "('ES', 554.7326666666667, 610.888, 583.3213333333333, 27.56666666666672)\n",
      "('MA', 537.3571428571429, 599.6028571428571, 572.6333333333333, 26.96952380952382)\n",
      "('MT', 507.8211111111111, 557.1155555555555, 531.38, 25.735555555555493)\n",
      "('AP', 624.0466666666666, 589.49, 567.1566666666666, 22.33333333333337)\n",
      "('MG', 639.4462, 602.7550666666667, 580.7289333333333, 22.026133333333405)\n",
      "('AM', 559.7069230769231, 579.3615384615384, 558.4476923076923, 20.91384615384618)\n",
      "('AL', 477.5906666666666, 590.9613333333334, 575.8253333333333, 15.136000000000081)\n",
      "('DF', 692.7446666666667, 589.8673333333334, 574.9406666666666, 14.926666666666733)\n",
      "('CE', 557.3506818181818, 625.4431818181819, 612.8259090909091, 12.617272727272734)\n",
      "('AC', 478.28749999999997, 590.285, 579.91, 10.375)\n"
     ]
    }
   ],
   "source": [
    "# Em SQL:\n",
    "\n",
    "#SELECT \n",
    "#    uf_busca,\n",
    "#    AVG(mensalidade) AS mensalidade_media,\n",
    "#    AVG(nota_integral_ampla) AS nota_media_integral_ampla,\n",
    "#    AVG(nota_integral_cotas) AS nota_media_integral_cotas,\n",
    "#    AVG(nota_integral_ampla) - AVG(nota_integral_cotas) AS diferenca_media_ampla_cotas\n",
    "#FROM cursos\n",
    "#WHERE mensalidade IS NOT NULL \n",
    "#AND nota_integral_ampla IS NOT NULL \n",
    "#AND nota_integral_cotas IS NOT NULL\n",
    "#GROUP BY uf_busca\n",
    "#ORDER BY diferenca_media_ampla_cotas DESC;\n",
    "#LIMIT 10;\n",
    "\n",
    "# Em python, da mesma forma:\n",
    "\n",
    "conn = sqlite3.connect(\"cursos_prouni_br.db\")\n",
    "cursor = conn.cursor()\n",
    "cursor.execute(\n",
    "     \"\"\"SELECT \n",
    "    uf_busca,\n",
    "    AVG(mensalidade) AS mensalidade_media,\n",
    "    AVG(nota_integral_ampla) AS nota_media_integral_ampla,\n",
    "    AVG(nota_integral_cotas) AS nota_media_integral_cotas,\n",
    "    AVG(nota_integral_ampla) - AVG(nota_integral_cotas) AS diferenca_media_ampla_cotas\n",
    "FROM cursos\n",
    "WHERE mensalidade IS NOT NULL \n",
    "AND nota_integral_ampla IS NOT NULL \n",
    "AND nota_integral_cotas IS NOT NULL\n",
    "GROUP BY uf_busca\n",
    "ORDER BY diferenca_media_ampla_cotas DESC;\"\"\"\n",
    ")    \n",
    "resultados = cursor.fetchall()\n",
    "for linha in resultados:\n",
    "    print(linha)"
   ]
  }
 ],
 "metadata": {
  "kernelspec": {
   "display_name": "Python 3",
   "language": "python",
   "name": "python3"
  },
  "language_info": {
   "codemirror_mode": {
    "name": "ipython",
    "version": 3
   },
   "file_extension": ".py",
   "mimetype": "text/x-python",
   "name": "python",
   "nbconvert_exporter": "python",
   "pygments_lexer": "ipython3",
   "version": "3.12.1"
  }
 },
 "nbformat": 4,
 "nbformat_minor": 2
}
